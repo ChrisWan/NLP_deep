{
 "cells": [
  {
   "cell_type": "markdown",
   "metadata": {},
   "source": [
    "Please fill out the information of your group!\n",
    "\n",
    "**Group:** 12\n",
    "\n",
    "| <p style=\"text-align: center;\">First Name</p>  | <p style=\"text-align: center;\">Family Name</p> | Matr.-No. |\n",
    "| ---------------------------------------------- | ---------------------------------------------- | -------- |\n",
    "| <p style=\"text-align: left\">Christian</p>| <p style=\"text-align: left\">Wanke</p> | 1520223 |\n",
    "| <p style=\"text-align: left\">*EDIT!*</p>| <p style=\"text-align: left\">*EDIT!*</p> | *EDIT!* |\n"
   ]
  },
  {
   "cell_type": "markdown",
   "metadata": {},
   "source": [
    "<h2 style=\"text-align: center\">344.075 KV: Natural Language Processing (WS2020/21)</h2>\n",
    "<h1 style=\"color:rgb(0,120,170)\">Assignment 1</h1>\n",
    "<h2 style=\"color:rgb(0,120,170)\">Document Classification with Standard Machine Learning Methods</h2>"
   ]
  },
  {
   "cell_type": "markdown",
   "metadata": {},
   "source": [
    "<b>Terms of Use</b><br>\n",
    "This  material is prepared for educational purposes at the Johannes Kepler University (JKU) Linz, and is exclusively provided to the registered students of the mentioned course at JKU. It is strictly forbidden to distribute the current file, the contents of the assignment, and its solution. The use or reproduction of this manuscript is only allowed for educational purposes in non-profit organizations, while in this case, the explicit prior acceptance of the author(s) is required.\n",
    "\n",
    "**Author:** Navid Rekab-Saz<br>\n",
    "**Email:** navid.rekabsaz@jku.at<br>"
   ]
  },
  {
   "cell_type": "markdown",
   "metadata": {},
   "source": [
    "# Guidelines and Instructions\n",
    "\n",
    "This Notebook encompasses all aspects of the assignment, namely the descriptions of tasks as well as your solutions and reports. Feel free to add any required cell in the designated solution sections. The cells can contains code, reports, charts, tables, or any other material, required for the assignment. Feel free to provide the solutions in interactive and visual ways! \n",
    "\n",
    "Please discuss any unclear point in the assignment in the provided forum in MOODLE. It is also encouraged to provide answers to your peer's questions. However when submitting a post, keep in mind to avoid providing solutions. Please let the author(s) know shall you find any error and receive an extra 0.25 point on the assignment.\n",
    "\n",
    "## Implementation & Libraries\n",
    "\n",
    "The assignment should be implemented with a recent version of Python (>3.7). Any standard Python library can be used, so far that the library is free and can be simply installed using `pip` or `conda`. Examples of potentially useful libraries are `scikit-learn`, `numpy`, `scipy`, `gensim`, `nltk`, `spaCy`, and `AllenNLP`. Use the latest stable version of each library.\n",
    "\n",
    "## Submission\n",
    "\n",
    "Each group submits one Notebook file (`.ipynb`) trough MOODLE. Do not forget to edit the group number and your names in the first cell of the Notebook. **In the submitted Notebook, all the results and visualization should already be present, and can be observed simply by loading the Notebook in a browser.** The Notebook must be self-contained, meaning that one can run all the cells from top to bottom without any error. If you need to include extra files in the submission, compress all files (together with the Notebook) in a `zip` file and submit the zip file to MOODLE. \n",
    "\n",
    "Cover the questions/points, mentioned in the tasks, but also add any necessary point for understanding your experiments. The report can be written in English or German.\n",
    "\n",
    "## Dataset\n",
    "\n",
    "To conduct the experiments, two datasets are provided. Select one of the datasets, and use it for all of the tasks. Since the next assignments also use either of these datasets, it is reasonable to select one, and continue using it through the semester. Both datasets, explained below, provide text classification tasks and consist of approximately 12,000 data points.\n",
    "\n",
    "- `sst-5` is a sentiment analysis collection, created based on the movie reviews in the IMDB website [1]. The provided dataset in this assignment consists of a set of sentences, and their corresponding labels. The labels are in 5 levels, annotated from very negative (-2) to very positive (+2). Download the dataset from https://drive.jku.at/filr/public-link/file-download/0cce88f175367cd1017545b19a4546b7/21605/-7685739623176600803/sst5.zip.\n",
    "\n",
    "- `thedeep` is a sentence classification dataset, produced by the DEEP (https://www.thedeep.io) platform. The DEEP is an open-source platform, which aim to facilitate processing of textual data for international humanitarian response organizations. The platform enables the classification of text excerpts, extracted from news and reports into a set of domain specific classes. The provided dataset has 12 classes (labels) like agriculture, health, and protection. Download the dataset from https://drive.jku.at/filr/public-link/file-download/0cce88f175367cd1017545b183eb4694/21606/7495092871089289021/thedeep.zip.\n",
    "\n",
    "Both datasets are compressed in zip files, containing the following files:\n",
    "- `$name$.train.txt`: Train set in csv format with three fields: sentence_id, text, and label.\n",
    "- `$name$.validation.txt`: Validation set in csv format with three fields: sentence_id, text, and label.\n",
    "- `$name$.test.txt`: Test set in csv format with three fields: sentence_id, text, and label.\n",
    "- `$name$.label.txt`: Captions of the labels.\n",
    "- `$name$.fulldata.txt`: Full data including train, validation, and test sets.\n",
    "- `$name$.README.txt`: Terms of use of the dataset.\n",
    "\n",
    "[1] R. Socher, A. Perelygin, J. Wu, J. Chuang, C. D. Manning, A. Y. Ng, and C. Potts. Recursive deep models for semantic compositionality over a sentiment treebank. In Proceedings of the 2013 conference on empirical methods in natural language processing, pages 1631–1642, 2013.\n",
    "\n"
   ]
  },
  {
   "cell_type": "markdown",
   "metadata": {},
   "source": [
    "# Assignment\n",
    "\n",
    "In this assignment, we practice the standard baseline methods for text processing and machine learning in the context of sentence classification tasks. The assignment has overall **15 points** and offers **2 extra points**, which can cover any missing point."
   ]
  },
  {
   "cell_type": "markdown",
   "metadata": {},
   "source": [
    "<h2 style=\"color:rgb(0,120,170)\">Task1: Pre-processing & Feature Extraction (8 points)</h2>\n",
    "\n",
    "**Preprocessing (2 points).** Load the train, validation, and test sets. Apply necessary preprocessing steps based on your judgement. Tokenize the preprocessed text. Describe your approaches to preprocessing and tokenization. Provide some examples, showing the effects of the applied approaches on the text.\n",
    "\n",
    "**Creating dictionary (2 points).** Use the processed tokens of the *training set* to create a dictionary of vocabularies. Reduce the size of dictionary using a proper method, for instance by considering a cut-off threshold on the tokens with low frequencies. When removing tokens from the dictionary, consider a strategy for handling Out-Of-Vocabulary (OOV) tokens, namely the ones in the train/validation/test datasets that that are not anymore in the dictionary. Some possible strategies could be to remove OOVs from the texts, or to replace them with a special token like <OOV\\>. Explain your approaches and report the statistics of the dictionary before and after the reduction.\n",
    "\n",
    "**Creating sentence vectors (2 points).** Use the dictionary to prepare <ins>two variations of document representation vectors</ins>, separately for train, validation, and test sets. Both variations follow a Bag-of-Words approach with a different word weighting model. The applied word weightings can be any of the methods discussed in the lecture (namely `tc`, `tf`, and `tf-idf`), or other possible methods of your choice. Report the applied approaches. Calculate and report the sparsity rate of the vectors of train, validation, and test sets, namely what percentage of the vectors in each set is filled with zeros.\n",
    "\n",
    "**Dimensionality reduction (2 points).** Reduce vectors' dimensions to $k$ by applying Latent Semantic Analysis (LSA) to the vectors of both variations. $k$ is a hyper-parameter and can be $10<k<1000$. Keep in mind the training and inference phases of LSA, when applied to the train, validation, and test sets. \n",
    "\n",
    "At the end of this task, you should have the <ins>four variations</ins> shown below, each consisting of sets of train, validation, and test:\n",
    "- Word weighting model 1 - high dimensional  \n",
    "- Word weighting model 1 - low dimensional\n",
    "- Word weighting model 2 - high dimensional\n",
    "- Word weighting model 2 - low dimensional\n",
    "\n",
    "\n"
   ]
  },
  {
   "cell_type": "markdown",
   "metadata": {},
   "source": [
    "<h3 style=\"text-align: center\">** Solution starts... **</h3>"
   ]
  },
  {
   "cell_type": "code",
   "execution_count": 1,
   "metadata": {},
   "outputs": [],
   "source": [
    "import pandas as pd\n",
    "import nltk\n",
    "from nltk.stem import WordNetLemmatizer\n",
    "from nltk.tokenize import RegexpTokenizer\n",
    "from nltk.corpus import stopwords\n",
    "from sklearn.feature_extraction.text import TfidfVectorizer\n",
    "from sklearn.feature_selection import chi2\n",
    "from sklearn.ensemble import RandomForestClassifier\n",
    "from sklearn.dummy import DummyClassifier\n",
    "from sklearn.model_selection import GridSearchCV\n",
    "from sklearn.model_selection import PredefinedSplit\n",
    "from sklearn import svm\n",
    "from sklearn.metrics import classification_report, confusion_matrix, accuracy_score\n",
    "from sklearn.model_selection import ShuffleSplit\n",
    "import numpy as np\n",
    "import matplotlib.pyplot as plt\n",
    "import seaborn as sns"
   ]
  },
  {
   "cell_type": "code",
   "execution_count": 2,
   "metadata": {},
   "outputs": [],
   "source": [
    "# Importing both datasets\n",
    "data_train = pd.read_csv('thedeep.train.txt', header=None, names=['sentence_id', 'text', 'label'])\n",
    "data_test = pd.read_csv('thedeep.test.txt', header=None, names=['sentence_id', 'text', 'label'])"
   ]
  },
  {
   "cell_type": "markdown",
   "metadata": {},
   "source": [
    "## Preprocessing the data"
   ]
  },
  {
   "cell_type": "code",
   "execution_count": 3,
   "metadata": {},
   "outputs": [
    {
     "data": {
      "text/plain": [
       "4     1445\n",
       "3     1223\n",
       "9     1189\n",
       "10     699\n",
       "11     600\n",
       "5      490\n",
       "8      345\n",
       "2      321\n",
       "1      285\n",
       "7      284\n",
       "0      215\n",
       "6      104\n",
       "Name: label, dtype: int64"
      ]
     },
     "execution_count": 3,
     "metadata": {},
     "output_type": "execute_result"
    }
   ],
   "source": [
    "data_train['label'].value_counts() ## some categories are underrepresented"
   ]
  },
  {
   "cell_type": "code",
   "execution_count": 4,
   "metadata": {},
   "outputs": [],
   "source": [
    "# column not needed\n",
    "data_train = data_train.drop(['sentence_id'], axis = 1)\n",
    "data_test = data_test.drop(['sentence_id'], axis = 1)"
   ]
  },
  {
   "cell_type": "code",
   "execution_count": 5,
   "metadata": {},
   "outputs": [],
   "source": [
    "# remove class 6, 0, 7, 1 because they are compared to the other classes underrepresented\n",
    "data_train = data_train.loc[data_train.label != 6]\n",
    "data_train = data_train.loc[data_train.label != 0]\n",
    "# data_train = data_train.loc[data_train.label != 7]\n",
    "# data_train = data_train.loc[data_train.label != 1]"
   ]
  },
  {
   "cell_type": "code",
   "execution_count": 6,
   "metadata": {},
   "outputs": [],
   "source": [
    "# same for the test set - otherwise we have their labels on which our model is not trained with\n",
    "data_test = data_test.loc[data_test.label != 6]\n",
    "data_test = data_test.loc[data_test.label != 0]\n",
    "# data_test = data_test.loc[data_test.label != 7]\n",
    "# data_test = data_test.loc[data_test.label != 1]"
   ]
  },
  {
   "cell_type": "code",
   "execution_count": 7,
   "metadata": {},
   "outputs": [],
   "source": [
    "# reseting the index necessary otherwise error in the for loop\n",
    "data_train.reset_index(drop=True, inplace=True)\n",
    "data_test.reset_index(drop=True, inplace=True)"
   ]
  },
  {
   "cell_type": "markdown",
   "metadata": {},
   "source": [
    "### Defining useful function for preprocessing"
   ]
  },
  {
   "cell_type": "code",
   "execution_count": 8,
   "metadata": {},
   "outputs": [],
   "source": [
    "def preprocess_text(data):\n",
    "    data['text'] = data['text'].str.lower()\n",
    "    punctuation_signs = list(\"?:!.,;\")\n",
    "    for punct_sign in punctuation_signs:\n",
    "        data['text'] = data['text'].str.replace(punct_sign, '')\n",
    "    data['text'] = data['text'].str.replace(\"'s\", \"\")\n",
    "    return data"
   ]
  },
  {
   "cell_type": "code",
   "execution_count": 9,
   "metadata": {},
   "outputs": [
    {
     "name": "stderr",
     "output_type": "stream",
     "text": [
      "[nltk_data] Downloading package punkt to\n",
      "[nltk_data]     C:\\Users\\wanke\\AppData\\Roaming\\nltk_data...\n",
      "[nltk_data]   Package punkt is already up-to-date!\n",
      "[nltk_data] Downloading package wordnet to\n",
      "[nltk_data]     C:\\Users\\wanke\\AppData\\Roaming\\nltk_data...\n",
      "[nltk_data]   Package wordnet is already up-to-date!\n"
     ]
    },
    {
     "data": {
      "text/plain": [
       "True"
      ]
     },
     "execution_count": 9,
     "metadata": {},
     "output_type": "execute_result"
    }
   ],
   "source": [
    "#Downloading punkt and wordnet from NLTK; necessary for lemmatize words\n",
    "nltk.download('punkt')\n",
    "nltk.download('wordnet')"
   ]
  },
  {
   "cell_type": "code",
   "execution_count": 10,
   "metadata": {},
   "outputs": [],
   "source": [
    "def lemmatize_text(data):\n",
    "    # Saving the lemmatizer into an object\n",
    "    wordnet_lemmatizer = WordNetLemmatizer()\n",
    "    lemmatized_text_list = []\n",
    "    nrows = len(data)\n",
    "    for row in range(0, nrows):\n",
    "        # Create an empty list containing lemmatized words\n",
    "        lemmatized_list = []\n",
    "        text_words = data['text'].loc[row].split(\" \")\n",
    "        # Iterate through every word to lemmatize\n",
    "        for word in text_words:\n",
    "            lemmatized_list.append(wordnet_lemmatizer.lemmatize(word, pos=\"v\"))\n",
    "\n",
    "        # Join the list\n",
    "        lemmatized_text = \" \".join(lemmatized_list)\n",
    "        # Append to the list containing the texts\n",
    "        lemmatized_text_list.append(lemmatized_text)\n",
    "        \n",
    "    data['text'] = lemmatized_text_list\n",
    "    return data"
   ]
  },
  {
   "cell_type": "code",
   "execution_count": 11,
   "metadata": {},
   "outputs": [
    {
     "name": "stderr",
     "output_type": "stream",
     "text": [
      "[nltk_data] Downloading package stopwords to\n",
      "[nltk_data]     C:\\Users\\wanke\\AppData\\Roaming\\nltk_data...\n",
      "[nltk_data]   Package stopwords is already up-to-date!\n",
      "[nltk_data] Downloading package stopwords to\n",
      "[nltk_data]     C:\\Users\\wanke\\AppData\\Roaming\\nltk_data...\n",
      "[nltk_data]   Package stopwords is already up-to-date!\n"
     ]
    }
   ],
   "source": [
    "# Downloading the stop words list\n",
    "nltk.download('stopwords')\n",
    "# Downloading the stop words list\n",
    "nltk.download('stopwords')\n",
    "stopWords = nltk.corpus.stopwords.words('english')\n",
    "\n",
    "def remove_stopwords(data):\n",
    "    for stopWord in stopWords:\n",
    "        data['text'].str.replace(stopWord, '')\n",
    "    return data"
   ]
  },
  {
   "cell_type": "markdown",
   "metadata": {},
   "source": [
    "### Applying defined preprocess functions"
   ]
  },
  {
   "cell_type": "code",
   "execution_count": 12,
   "metadata": {},
   "outputs": [],
   "source": [
    "data_train = remove_stopwords(data=data_train)\n",
    "data_test = remove_stopwords(data=data_test)"
   ]
  },
  {
   "cell_type": "code",
   "execution_count": 13,
   "metadata": {},
   "outputs": [],
   "source": [
    "data_train = lemmatize_text(data=data_train)\n",
    "data_test = lemmatize_text(data=data_test)"
   ]
  },
  {
   "cell_type": "code",
   "execution_count": 14,
   "metadata": {},
   "outputs": [],
   "source": [
    "data_train = preprocess_text(data=data_train)\n",
    "data_test = preprocess_text(data=data_test)"
   ]
  },
  {
   "cell_type": "code",
   "execution_count": 15,
   "metadata": {},
   "outputs": [
    {
     "data": {
      "text/plain": [
       "'in al-ahuhda’a camp within the aaf camps protection partner have identify many idps (approx 430 families) from falluja and other areas whose family members be detained involve in tribal conflict and/or want due to perceive link to extremist groups these families’ civil document be either lose or expire and they be unable to attend the civil registries outside of camp to replace their documentation due to fear about the security screen process aources indicate that this reportedly stem from a 2015 internal directive by the ministry of interior which stipulate that where the head of household be either detain or missing the family will not be issue with civil documentation due to perceive link to extremists the id issuance would only be possible upon return of the head of household current information indicate that the directive be subsequently amend to allow for issuance of ids even when the head of household be still miss as long as they be not flag in the security databases despite this change families in camp remain fearful to go through this screen process and some may already have be expel from their tribes and fear present themselves at civil registries as it may lead to their detention or other harm protection partner be follow up and undertake awareness sessions on how to replace miss civil documentation and provide legal assistance to secure documents'"
      ]
     },
     "execution_count": 15,
     "metadata": {},
     "output_type": "execute_result"
    }
   ],
   "source": [
    "# example of preprocessed text\n",
    "data_train['text'].loc[1]"
   ]
  },
  {
   "cell_type": "code",
   "execution_count": 16,
   "metadata": {},
   "outputs": [],
   "source": [
    "# Since the split of training and test set was given - a simple assigning to variables and no train-test split function\n",
    "X_train = data_train['text']\n",
    "y_train = data_train['label']\n",
    "X_test = data_test['text']\n",
    "y_test = data_test['label']"
   ]
  },
  {
   "cell_type": "code",
   "execution_count": 17,
   "metadata": {},
   "outputs": [],
   "source": [
    "# Parameter election for Tfidf - maybe some more experimenting\n",
    "ngram_range = (1,3) # was (1,2)\n",
    "# minimum absolute number a word must be present otherwise it will be cut off\n",
    "min_df = 5 # was 10\n",
    "# maximum propotional number a word must be present otherwise it will be ignored\n",
    "max_df = .8 # was 1."
   ]
  },
  {
   "cell_type": "code",
   "execution_count": 18,
   "metadata": {},
   "outputs": [
    {
     "name": "stdout",
     "output_type": "stream",
     "text": [
      "(6881, 500)\n",
      "(2299, 500)\n"
     ]
    }
   ],
   "source": [
    "# ld = low dimension\n",
    "tfidf_ld = TfidfVectorizer(encoding='utf-8',\n",
    "                        ngram_range=ngram_range,\n",
    "                        stop_words=None,\n",
    "                        lowercase=False,\n",
    "                        max_df=max_df,\n",
    "                        min_df=min_df,\n",
    "                        max_features=500, # maximum dimensions set to 500\n",
    "                        norm='l2',\n",
    "                        sublinear_tf=True)\n",
    "\n",
    "# fit only on training set; transform on both\n",
    "features_train_low_dimension = tfidf_ld.fit_transform(X_train).toarray()\n",
    "labels_train = y_train\n",
    "print(features_train_low_dimension.shape)\n",
    "\n",
    "features_test_low_dimension = tfidf_ld.transform(X_test).toarray()\n",
    "labels_test = y_test\n",
    "print(features_test_low_dimension.shape)"
   ]
  },
  {
   "cell_type": "code",
   "execution_count": 19,
   "metadata": {},
   "outputs": [
    {
     "data": {
      "text/html": [
       "<div>\n",
       "<style scoped>\n",
       "    .dataframe tbody tr th:only-of-type {\n",
       "        vertical-align: middle;\n",
       "    }\n",
       "\n",
       "    .dataframe tbody tr th {\n",
       "        vertical-align: top;\n",
       "    }\n",
       "\n",
       "    .dataframe thead th {\n",
       "        text-align: right;\n",
       "    }\n",
       "</style>\n",
       "<table border=\"1\" class=\"dataframe\">\n",
       "  <thead>\n",
       "    <tr style=\"text-align: right;\">\n",
       "      <th></th>\n",
       "      <th>word</th>\n",
       "      <th>value</th>\n",
       "    </tr>\n",
       "  </thead>\n",
       "  <tbody>\n",
       "    <tr>\n",
       "      <th>230</th>\n",
       "      <td>years</td>\n",
       "      <td>499</td>\n",
       "    </tr>\n",
       "    <tr>\n",
       "      <th>127</th>\n",
       "      <td>year</td>\n",
       "      <td>498</td>\n",
       "    </tr>\n",
       "    <tr>\n",
       "      <th>113</th>\n",
       "      <td>work</td>\n",
       "      <td>497</td>\n",
       "    </tr>\n",
       "    <tr>\n",
       "      <th>284</th>\n",
       "      <td>women and</td>\n",
       "      <td>496</td>\n",
       "    </tr>\n",
       "    <tr>\n",
       "      <th>276</th>\n",
       "      <td>women</td>\n",
       "      <td>495</td>\n",
       "    </tr>\n",
       "    <tr>\n",
       "      <th>...</th>\n",
       "      <td>...</td>\n",
       "      <td>...</td>\n",
       "    </tr>\n",
       "    <tr>\n",
       "      <th>261</th>\n",
       "      <td>13</td>\n",
       "      <td>4</td>\n",
       "    </tr>\n",
       "    <tr>\n",
       "      <th>96</th>\n",
       "      <td>12</td>\n",
       "      <td>3</td>\n",
       "    </tr>\n",
       "    <tr>\n",
       "      <th>377</th>\n",
       "      <td>11</td>\n",
       "      <td>2</td>\n",
       "    </tr>\n",
       "    <tr>\n",
       "      <th>229</th>\n",
       "      <td>10</td>\n",
       "      <td>1</td>\n",
       "    </tr>\n",
       "    <tr>\n",
       "      <th>199</th>\n",
       "      <td>000</td>\n",
       "      <td>0</td>\n",
       "    </tr>\n",
       "  </tbody>\n",
       "</table>\n",
       "<p>500 rows × 2 columns</p>\n",
       "</div>"
      ],
      "text/plain": [
       "          word  value\n",
       "230      years    499\n",
       "127       year    498\n",
       "113       work    497\n",
       "284  women and    496\n",
       "276      women    495\n",
       "..         ...    ...\n",
       "261         13      4\n",
       "96          12      3\n",
       "377         11      2\n",
       "229         10      1\n",
       "199        000      0\n",
       "\n",
       "[500 rows x 2 columns]"
      ]
     },
     "execution_count": 19,
     "metadata": {},
     "output_type": "execute_result"
    }
   ],
   "source": [
    "# Vocabulary for low dimensional vector\n",
    "#tfidf_ld.vocabulary_\n",
    "bag_of_words_ld = pd.DataFrame(columns=['word', 'value'])\n",
    "bag_of_words_ld['word'] = tfidf_ld.vocabulary_.keys()\n",
    "bag_of_words_ld['value'] = tfidf_ld.vocabulary_.values()\n",
    "bag_of_words_ld.sort_values(by='value', ascending=False)"
   ]
  },
  {
   "cell_type": "code",
   "execution_count": 20,
   "metadata": {},
   "outputs": [
    {
     "name": "stdout",
     "output_type": "stream",
     "text": [
      "(6881, 1500)\n",
      "(2299, 1500)\n"
     ]
    }
   ],
   "source": [
    "# hd = high dimension\n",
    "tfidf_hd = TfidfVectorizer(encoding='utf-8',\n",
    "                        ngram_range=ngram_range,\n",
    "                        stop_words=None,\n",
    "                        lowercase=False,\n",
    "                        max_df=max_df,\n",
    "                        min_df=min_df,\n",
    "                        max_features=1500, # maximum dimensions set to 1500\n",
    "                        norm='l2',\n",
    "                        sublinear_tf=True)\n",
    "\n",
    "# fit only on training set; transform on both\n",
    "features_train_high_dimension = tfidf_hd.fit_transform(X_train).toarray()\n",
    "# labels_train = y_train already set above\n",
    "print(features_train_high_dimension.shape)\n",
    "\n",
    "features_test_high_dimension = tfidf_hd.transform(X_test).toarray()\n",
    "# labels_test = y_test already set above\n",
    "print(features_test_high_dimension.shape)"
   ]
  },
  {
   "cell_type": "code",
   "execution_count": 21,
   "metadata": {},
   "outputs": [
    {
     "data": {
      "text/html": [
       "<div>\n",
       "<style scoped>\n",
       "    .dataframe tbody tr th:only-of-type {\n",
       "        vertical-align: middle;\n",
       "    }\n",
       "\n",
       "    .dataframe tbody tr th {\n",
       "        vertical-align: top;\n",
       "    }\n",
       "\n",
       "    .dataframe thead th {\n",
       "        text-align: right;\n",
       "    }\n",
       "</style>\n",
       "<table border=\"1\" class=\"dataframe\">\n",
       "  <thead>\n",
       "    <tr style=\"text-align: right;\">\n",
       "      <th></th>\n",
       "      <th>word</th>\n",
       "      <th>value</th>\n",
       "    </tr>\n",
       "  </thead>\n",
       "  <tbody>\n",
       "    <tr>\n",
       "      <th>833</th>\n",
       "      <td>zone</td>\n",
       "      <td>1499</td>\n",
       "    </tr>\n",
       "    <tr>\n",
       "      <th>1476</th>\n",
       "      <td>young</td>\n",
       "      <td>1498</td>\n",
       "    </tr>\n",
       "    <tr>\n",
       "      <th>984</th>\n",
       "      <td>yet</td>\n",
       "      <td>1497</td>\n",
       "    </tr>\n",
       "    <tr>\n",
       "      <th>742</th>\n",
       "      <td>yemen</td>\n",
       "      <td>1496</td>\n",
       "    </tr>\n",
       "    <tr>\n",
       "      <th>589</th>\n",
       "      <td>years of</td>\n",
       "      <td>1495</td>\n",
       "    </tr>\n",
       "    <tr>\n",
       "      <th>...</th>\n",
       "      <td>...</td>\n",
       "      <td>...</td>\n",
       "    </tr>\n",
       "    <tr>\n",
       "      <th>1037</th>\n",
       "      <td>1000</td>\n",
       "      <td>4</td>\n",
       "    </tr>\n",
       "    <tr>\n",
       "      <th>197</th>\n",
       "      <td>100</td>\n",
       "      <td>3</td>\n",
       "    </tr>\n",
       "    <tr>\n",
       "      <th>374</th>\n",
       "      <td>10</td>\n",
       "      <td>2</td>\n",
       "    </tr>\n",
       "    <tr>\n",
       "      <th>1190</th>\n",
       "      <td>000 people</td>\n",
       "      <td>1</td>\n",
       "    </tr>\n",
       "    <tr>\n",
       "      <th>321</th>\n",
       "      <td>000</td>\n",
       "      <td>0</td>\n",
       "    </tr>\n",
       "  </tbody>\n",
       "</table>\n",
       "<p>1500 rows × 2 columns</p>\n",
       "</div>"
      ],
      "text/plain": [
       "            word  value\n",
       "833         zone   1499\n",
       "1476       young   1498\n",
       "984          yet   1497\n",
       "742        yemen   1496\n",
       "589     years of   1495\n",
       "...          ...    ...\n",
       "1037        1000      4\n",
       "197          100      3\n",
       "374           10      2\n",
       "1190  000 people      1\n",
       "321          000      0\n",
       "\n",
       "[1500 rows x 2 columns]"
      ]
     },
     "execution_count": 21,
     "metadata": {},
     "output_type": "execute_result"
    }
   ],
   "source": [
    "# Vocabulary for high dimensional vector\n",
    "tfidf_hd.vocabulary_\n",
    "bag_of_words_hd = pd.DataFrame(columns=['word', 'value'])\n",
    "bag_of_words_hd['word'] = tfidf_hd.vocabulary_.keys()\n",
    "bag_of_words_hd['value'] = tfidf_hd.vocabulary_.values()\n",
    "bag_of_words_hd.sort_values(by='value', ascending=False)"
   ]
  },
  {
   "cell_type": "markdown",
   "metadata": {},
   "source": [
    "## Training of two different ML models"
   ]
  },
  {
   "cell_type": "markdown",
   "metadata": {},
   "source": [
    "### Baseline Classifier"
   ]
  },
  {
   "cell_type": "code",
   "execution_count": 22,
   "metadata": {},
   "outputs": [
    {
     "name": "stdout",
     "output_type": "stream",
     "text": [
      "Baseline Classifier is based on most_frequent and has an accurancy of 0.217\n"
     ]
    }
   ],
   "source": [
    "# here is a baseline classifier trained which always classifies everything with the most frequent occuring label\n",
    "dummy_clf = DummyClassifier(strategy=\"most_frequent\")\n",
    "dummy_clf.fit(X_train, y_train)\n",
    "dummy_clf.predict(X_test)\n",
    "score = dummy_clf.score(X_test, y_test)\n",
    "print('Baseline Classifier is based on most_frequent and has an accurancy of {:.3f}'.format(score))"
   ]
  },
  {
   "cell_type": "markdown",
   "metadata": {},
   "source": [
    "### Random Forest Classifier"
   ]
  },
  {
   "cell_type": "code",
   "execution_count": 23,
   "metadata": {},
   "outputs": [
    {
     "name": "stdout",
     "output_type": "stream",
     "text": [
      "Fitting 3 folds for each of 8 candidates, totalling 24 fits\n"
     ]
    },
    {
     "name": "stderr",
     "output_type": "stream",
     "text": [
      "[Parallel(n_jobs=3)]: Using backend LokyBackend with 3 concurrent workers.\n",
      "[Parallel(n_jobs=3)]: Done  24 out of  24 | elapsed:  3.2min finished\n"
     ]
    },
    {
     "data": {
      "text/plain": [
       "GridSearchCV(cv=ShuffleSplit(n_splits=3, random_state=None, test_size=0.33, train_size=None),\n",
       "             estimator=RandomForestClassifier(), n_jobs=3,\n",
       "             param_grid={'bootstrap': [True], 'max_depth': [100, 188],\n",
       "                         'max_features': ['sqrt'], 'min_samples_leaf': [2],\n",
       "                         'min_samples_split': [20, 25],\n",
       "                         'n_estimators': [970, 1000]},\n",
       "             scoring='accuracy', verbose=1)"
      ]
     },
     "execution_count": 23,
     "metadata": {},
     "output_type": "execute_result"
    }
   ],
   "source": [
    "# Trying different parameters to eventually find the best combination for the latter model - we use that instead of parameter tuning\n",
    "# manually with validation set\n",
    "bootstrap = [True]\n",
    "max_depth = [100, 188]\n",
    "max_features = ['sqrt']\n",
    "min_samples_leaf = [2]\n",
    "min_samples_split = [20, 25]\n",
    "n_estimators = [970,1000]\n",
    "\n",
    "param_grid = {\n",
    "    'bootstrap': bootstrap,\n",
    "    'max_depth': max_depth,\n",
    "    'max_features': max_features,\n",
    "    'min_samples_leaf': min_samples_leaf,\n",
    "    'min_samples_split': min_samples_split,\n",
    "    'n_estimators': n_estimators\n",
    "}\n",
    "\n",
    "# Create a base model\n",
    "rfc = RandomForestClassifier()\n",
    "\n",
    "# Manually create the splits in CV in order to be able to fix a random_state (GridSearchCV doesn't have that argument)\n",
    "cv_sets = ShuffleSplit(n_splits = 3, test_size = .33)\n",
    "\n",
    "# Instantiate the grid search model\n",
    "grid_search = GridSearchCV(estimator=rfc, \n",
    "                           param_grid=param_grid,\n",
    "                           scoring='accuracy',\n",
    "                           cv=cv_sets,\n",
    "                           verbose=1,\n",
    "                           n_jobs = 3)\n",
    "\n",
    "# Fit the grid search to the data only in low dimension - no high dimension because we believe that the hyperparameters stary more\n",
    "# or less the same\n",
    "grid_search.fit(features_train_low_dimension, labels_train)"
   ]
  },
  {
   "cell_type": "code",
   "execution_count": 24,
   "metadata": {},
   "outputs": [
    {
     "name": "stdout",
     "output_type": "stream",
     "text": [
      "The best hyperparameters from Grid Search are:\n",
      "{'bootstrap': True, 'max_depth': 188, 'max_features': 'sqrt', 'min_samples_leaf': 2, 'min_samples_split': 25, 'n_estimators': 970}\n",
      "\n",
      "The mean accuracy of a model with these hyperparameters is:\n",
      "0.6223396447967122\n"
     ]
    }
   ],
   "source": [
    "print(\"The best hyperparameters from Grid Search are:\")\n",
    "print(grid_search.best_params_)\n",
    "print(\"\")\n",
    "print(\"The mean accuracy of a model with these hyperparameters is:\")\n",
    "print(grid_search.best_score_)"
   ]
  },
  {
   "cell_type": "code",
   "execution_count": 25,
   "metadata": {},
   "outputs": [
    {
     "name": "stdout",
     "output_type": "stream",
     "text": [
      "Fitting 3 folds for each of 8 candidates, totalling 24 fits\n"
     ]
    },
    {
     "name": "stderr",
     "output_type": "stream",
     "text": [
      "[Parallel(n_jobs=3)]: Using backend LokyBackend with 3 concurrent workers.\n",
      "[Parallel(n_jobs=3)]: Done  24 out of  24 | elapsed:  6.9min finished\n"
     ]
    }
   ],
   "source": [
    "# setting first best hyperparameters for low AND then high dimension model\n",
    "best_rfc_low_dimension = grid_search.best_estimator_\n",
    "\n",
    "grid_search.fit(features_train_high_dimension, labels_train)\n",
    "best_rfc_high_dimension = grid_search.best_estimator_"
   ]
  },
  {
   "cell_type": "code",
   "execution_count": 26,
   "metadata": {},
   "outputs": [
    {
     "data": {
      "text/plain": [
       "RandomForestClassifier(max_depth=188, max_features='sqrt', min_samples_leaf=2,\n",
       "                       min_samples_split=20, n_estimators=1000)"
      ]
     },
     "execution_count": 26,
     "metadata": {},
     "output_type": "execute_result"
    }
   ],
   "source": [
    "best_rfc_low_dimension.fit(features_train_low_dimension, labels_train)\n",
    "best_rfc_high_dimension.fit(features_train_high_dimension, labels_train)"
   ]
  },
  {
   "cell_type": "code",
   "execution_count": null,
   "metadata": {},
   "outputs": [],
   "source": []
  },
  {
   "cell_type": "code",
   "execution_count": 27,
   "metadata": {},
   "outputs": [],
   "source": [
    "rfc_pred_low_dimension = best_rfc_low_dimension.predict(features_test_low_dimension)\n",
    "rfc_pred_high_dimension = best_rfc_high_dimension.predict(features_test_high_dimension)"
   ]
  },
  {
   "cell_type": "code",
   "execution_count": 28,
   "metadata": {},
   "outputs": [
    {
     "name": "stdout",
     "output_type": "stream",
     "text": [
      "The training accuracy is: \n",
      "0.8164510972242407\n"
     ]
    }
   ],
   "source": [
    "# Training accuracy for low dimension feature set\n",
    "print(\"The training accuracy is: \")\n",
    "print(accuracy_score(labels_train, best_rfc_low_dimension.predict(features_train_low_dimension)))"
   ]
  },
  {
   "cell_type": "code",
   "execution_count": 29,
   "metadata": {},
   "outputs": [
    {
     "name": "stdout",
     "output_type": "stream",
     "text": [
      "The training accuracy is: \n",
      "0.8511844208690598\n"
     ]
    }
   ],
   "source": [
    "# Training accuracy for high dimension feature set\n",
    "print(\"The training accuracy is: \")\n",
    "print(accuracy_score(labels_train, best_rfc_high_dimension.predict(features_train_high_dimension)))"
   ]
  },
  {
   "cell_type": "code",
   "execution_count": 30,
   "metadata": {},
   "outputs": [
    {
     "name": "stdout",
     "output_type": "stream",
     "text": [
      "The test accuracy is: \n",
      "0.6385384949978251\n"
     ]
    }
   ],
   "source": [
    "# Test accuracy for low dimension feature set\n",
    "print(\"The test accuracy is: \")\n",
    "print(accuracy_score(labels_test, rfc_pred_low_dimension))"
   ]
  },
  {
   "cell_type": "code",
   "execution_count": 31,
   "metadata": {},
   "outputs": [
    {
     "name": "stdout",
     "output_type": "stream",
     "text": [
      "The test accuracy is: \n",
      "0.6511526750761201\n"
     ]
    }
   ],
   "source": [
    "# Test accuracy for high dimension feature set\n",
    "print(\"The test accuracy is: \")\n",
    "print(accuracy_score(labels_test, rfc_pred_high_dimension))"
   ]
  },
  {
   "cell_type": "code",
   "execution_count": 32,
   "metadata": {},
   "outputs": [
    {
     "name": "stdout",
     "output_type": "stream",
     "text": [
      "Classification report\n",
      "              precision    recall  f1-score   support\n",
      "\n",
      "           1       0.75      0.06      0.11        99\n",
      "           2       0.72      0.74      0.73       125\n",
      "           3       0.62      0.76      0.69       395\n",
      "           4       0.77      0.81      0.79       500\n",
      "           5       0.59      0.13      0.21       151\n",
      "           7       0.35      0.10      0.15        82\n",
      "           8       0.61      0.44      0.51       114\n",
      "           9       0.57      0.83      0.68       400\n",
      "          10       0.56      0.57      0.56       217\n",
      "          11       0.61      0.60      0.61       216\n",
      "\n",
      "    accuracy                           0.64      2299\n",
      "   macro avg       0.62      0.50      0.50      2299\n",
      "weighted avg       0.64      0.64      0.61      2299\n",
      "\n"
     ]
    }
   ],
   "source": [
    "# Classification report for low dimension feature set\n",
    "print(\"Classification report\")\n",
    "print(classification_report(labels_test,rfc_pred_low_dimension))"
   ]
  },
  {
   "cell_type": "code",
   "execution_count": 33,
   "metadata": {},
   "outputs": [
    {
     "name": "stdout",
     "output_type": "stream",
     "text": [
      "Classification report\n",
      "              precision    recall  f1-score   support\n",
      "\n",
      "           1       0.75      0.09      0.16        99\n",
      "           2       0.73      0.73      0.73       125\n",
      "           3       0.63      0.76      0.69       395\n",
      "           4       0.77      0.81      0.79       500\n",
      "           5       0.66      0.19      0.30       151\n",
      "           7       0.44      0.13      0.21        82\n",
      "           8       0.66      0.52      0.58       114\n",
      "           9       0.59      0.85      0.70       400\n",
      "          10       0.56      0.57      0.56       217\n",
      "          11       0.62      0.59      0.60       216\n",
      "\n",
      "    accuracy                           0.65      2299\n",
      "   macro avg       0.64      0.52      0.53      2299\n",
      "weighted avg       0.65      0.65      0.62      2299\n",
      "\n"
     ]
    }
   ],
   "source": [
    "# Classification report for high dimension feature set\n",
    "print(\"Classification report\")\n",
    "print(classification_report(labels_test,rfc_pred_high_dimension))"
   ]
  },
  {
   "cell_type": "code",
   "execution_count": 34,
   "metadata": {},
   "outputs": [
    {
     "data": {
      "image/png": "[encoded data removed]",
      "text/plain": [
       "<Figure size 921.6x432 with 2 Axes>"
      ]
     },
     "metadata": {
      "needs_background": "light"
     },
     "output_type": "display_data"
    }
   ],
   "source": [
    "# one time for all models - reading in the categories\n",
    "categories_code = pd.read_csv('thedeep.labels.txt', header=None, names = ['code', 'category']) \n",
    "categories_code = categories_code.drop([0,6]) # evtl. 1 und 7 dazu\n",
    "categories = categories_code[['code', 'category']].drop_duplicates().sort_values('code')\n",
    "\n",
    "# Confusion matrix for Random Forest Classifier low dimension\n",
    "conf_matrix = confusion_matrix(labels_test, rfc_pred_low_dimension)\n",
    "plt.figure(figsize=(12.8,6))\n",
    "sns.heatmap(conf_matrix, \n",
    "            annot=True,\n",
    "            xticklabels=categories['category'].values, \n",
    "            yticklabels=categories['category'].values,\n",
    "            cmap=\"Blues\")\n",
    "plt.ylabel('Predicted')\n",
    "plt.xlabel('Actual')\n",
    "plt.title('Confusion matrix with Random Forest Classification and low dimension feature set')\n",
    "plt.show()"
   ]
  },
  {
   "cell_type": "code",
   "execution_count": 35,
   "metadata": {},
   "outputs": [
    {
     "data": {
      "image/png": "[encoded data removed]",
      "text/plain": [
       "<Figure size 921.6x432 with 2 Axes>"
      ]
     },
     "metadata": {
      "needs_background": "light"
     },
     "output_type": "display_data"
    }
   ],
   "source": [
    "# Confusion matrix for Random Forest Classifier high dimension\n",
    "conf_matrix = confusion_matrix(labels_test, rfc_pred_high_dimension)\n",
    "plt.figure(figsize=(12.8,6))\n",
    "sns.heatmap(conf_matrix, \n",
    "            annot=True,\n",
    "            xticklabels=categories['category'].values, \n",
    "            yticklabels=categories['category'].values,\n",
    "            cmap=\"Blues\")\n",
    "plt.ylabel('Predicted')\n",
    "plt.xlabel('Actual')\n",
    "plt.title('Confusion matrix with Random Forest Classification and high dimension feature set')\n",
    "plt.show()"
   ]
  },
  {
   "cell_type": "markdown",
   "metadata": {},
   "source": [
    "### Support Vector Machine"
   ]
  },
  {
   "cell_type": "code",
   "execution_count": 36,
   "metadata": {},
   "outputs": [
    {
     "name": "stdout",
     "output_type": "stream",
     "text": [
      "Fitting 3 folds for each of 3 candidates, totalling 9 fits\n"
     ]
    },
    {
     "name": "stderr",
     "output_type": "stream",
     "text": [
      "[Parallel(n_jobs=3)]: Using backend LokyBackend with 3 concurrent workers.\n",
      "[Parallel(n_jobs=3)]: Done   9 out of   9 | elapsed:  5.1min finished\n"
     ]
    },
    {
     "data": {
      "text/plain": [
       "GridSearchCV(cv=ShuffleSplit(n_splits=3, random_state=None, test_size=0.33, train_size=None),\n",
       "             estimator=SVC(), n_jobs=3,\n",
       "             param_grid=[{'C': [0.01, 0.1, 0.2], 'kernel': ['linear'],\n",
       "                          'probability': [True]}],\n",
       "             scoring='accuracy', verbose=1)"
      ]
     },
     "execution_count": 36,
     "metadata": {},
     "output_type": "execute_result"
    }
   ],
   "source": [
    "# Second model same procedure: finding good parameters\n",
    "C = [.01, .1, .2]\n",
    "#degree = [3, 4]\n",
    "probability = [True]\n",
    "\n",
    "param_grid = [\n",
    "  {'C': C, 'kernel':['linear'], 'probability':probability},\n",
    "  #{'C': C, 'kernel':['poly'], 'degree':degree, 'probability':probability}\n",
    "]\n",
    "\n",
    "# Create a base model\n",
    "svc = svm.SVC()\n",
    "\n",
    "# Manually create the splits in CV in order to be able to fix a random_state (GridSearchCV doesn't have that argument)\n",
    "cv_sets = ShuffleSplit(n_splits = 3, test_size = .33)\n",
    "#validation = pd.read_csv('thedeep.validation.txt', header=None, names=['sentence_id', 'text', 'label'])\n",
    "#validation.drop('sentence_id',axis=1,inplace=True)\n",
    "# Try with given validation set - unfortunetly not working\n",
    "#cv_sets = PredefinedSplit(test_fold=validation.to_numpy)\n",
    "\n",
    "# Instantiate the grid search model\n",
    "grid_search = GridSearchCV(estimator=svc, \n",
    "                           param_grid=param_grid,\n",
    "                           scoring='accuracy',\n",
    "                           cv=cv_sets,\n",
    "                           verbose=1,\n",
    "                           n_jobs=3)\n",
    "\n",
    "# Fit the grid search to the data only to low dimension\n",
    "grid_search.fit(features_train_low_dimension, labels_train)"
   ]
  },
  {
   "cell_type": "code",
   "execution_count": 37,
   "metadata": {},
   "outputs": [
    {
     "name": "stdout",
     "output_type": "stream",
     "text": [
      "The best hyperparameters from Grid Search are:\n",
      "{'C': 0.2, 'kernel': 'linear', 'probability': True}\n",
      "\n",
      "The mean accuracy of a model with these hyperparameters is:\n",
      "0.5982680170262733\n"
     ]
    }
   ],
   "source": [
    "print(\"The best hyperparameters from Grid Search are:\")\n",
    "print(grid_search.best_params_)\n",
    "print(\"\")\n",
    "print(\"The mean accuracy of a model with these hyperparameters is:\")\n",
    "print(grid_search.best_score_)"
   ]
  },
  {
   "cell_type": "code",
   "execution_count": 38,
   "metadata": {},
   "outputs": [
    {
     "name": "stdout",
     "output_type": "stream",
     "text": [
      "Fitting 3 folds for each of 3 candidates, totalling 9 fits\n"
     ]
    },
    {
     "name": "stderr",
     "output_type": "stream",
     "text": [
      "[Parallel(n_jobs=3)]: Using backend LokyBackend with 3 concurrent workers.\n",
      "[Parallel(n_jobs=3)]: Done   9 out of   9 | elapsed: 16.7min finished\n"
     ]
    }
   ],
   "source": [
    "best_svc_low_dimension = grid_search.best_estimator_\n",
    "\n",
    "grid_search.fit(features_train_high_dimension, labels_train)\n",
    "best_svc_high_dimension = grid_search.best_estimator_"
   ]
  },
  {
   "cell_type": "code",
   "execution_count": 39,
   "metadata": {},
   "outputs": [
    {
     "data": {
      "text/plain": [
       "SVC(C=0.2, kernel='linear', probability=True)"
      ]
     },
     "execution_count": 39,
     "metadata": {},
     "output_type": "execute_result"
    }
   ],
   "source": [
    "best_svc_low_dimension.fit(features_train_low_dimension, labels_train)\n",
    "best_svc_high_dimension.fit(features_train_high_dimension, labels_train)"
   ]
  },
  {
   "cell_type": "code",
   "execution_count": 40,
   "metadata": {},
   "outputs": [],
   "source": [
    "svc_pred_low_dimension = best_svc_low_dimension.predict(features_test_low_dimension)\n",
    "svc_pred_high_dimension = best_svc_high_dimension.predict(features_test_high_dimension)"
   ]
  },
  {
   "cell_type": "code",
   "execution_count": 41,
   "metadata": {},
   "outputs": [
    {
     "name": "stdout",
     "output_type": "stream",
     "text": [
      "The training accuracy is: \n",
      "0.6477256212759773\n"
     ]
    }
   ],
   "source": [
    "# Training accuracy\n",
    "print(\"The training accuracy is: \")\n",
    "print(accuracy_score(labels_train, best_svc_low_dimension.predict(features_train_low_dimension)))"
   ]
  },
  {
   "cell_type": "code",
   "execution_count": 42,
   "metadata": {},
   "outputs": [
    {
     "name": "stdout",
     "output_type": "stream",
     "text": [
      "The training accuracy is: \n",
      "0.6606597878215376\n"
     ]
    }
   ],
   "source": [
    "# Training accuracy\n",
    "print(\"The training accuracy is: \")\n",
    "print(accuracy_score(labels_train, best_svc_high_dimension.predict(features_train_high_dimension)))"
   ]
  },
  {
   "cell_type": "code",
   "execution_count": 43,
   "metadata": {},
   "outputs": [
    {
     "name": "stdout",
     "output_type": "stream",
     "text": [
      "The test accuracy is: \n",
      "0.6241844280121792\n"
     ]
    }
   ],
   "source": [
    "# Test accuracy low dimension\n",
    "print(\"The test accuracy is: \")\n",
    "print(accuracy_score(labels_test, svc_pred_low_dimension))"
   ]
  },
  {
   "cell_type": "code",
   "execution_count": 44,
   "metadata": {},
   "outputs": [
    {
     "name": "stdout",
     "output_type": "stream",
     "text": [
      "The test accuracy is: \n",
      "0.6350587211831231\n"
     ]
    }
   ],
   "source": [
    "# Test accuracy high dimension\n",
    "print(\"The test accuracy is: \")\n",
    "print(accuracy_score(labels_test, svc_pred_high_dimension))"
   ]
  },
  {
   "cell_type": "code",
   "execution_count": 45,
   "metadata": {},
   "outputs": [
    {
     "name": "stdout",
     "output_type": "stream",
     "text": [
      "Classification report\n",
      "              precision    recall  f1-score   support\n",
      "\n",
      "           1       0.00      0.00      0.00        99\n",
      "           2       0.75      0.73      0.74       125\n",
      "           3       0.63      0.75      0.69       395\n",
      "           4       0.74      0.77      0.76       500\n",
      "           5       0.89      0.11      0.19       151\n",
      "           7       0.36      0.06      0.10        82\n",
      "           8       0.68      0.43      0.53       114\n",
      "           9       0.51      0.87      0.64       400\n",
      "          10       0.58      0.55      0.57       217\n",
      "          11       0.65      0.56      0.60       216\n",
      "\n",
      "    accuracy                           0.62      2299\n",
      "   macro avg       0.58      0.48      0.48      2299\n",
      "weighted avg       0.62      0.62      0.59      2299\n",
      "\n"
     ]
    },
    {
     "name": "stderr",
     "output_type": "stream",
     "text": [
      "C:\\Users\\wanke\\anaconda3\\lib\\site-packages\\sklearn\\metrics\\_classification.py:1221: UndefinedMetricWarning: Precision and F-score are ill-defined and being set to 0.0 in labels with no predicted samples. Use `zero_division` parameter to control this behavior.\n",
      "  _warn_prf(average, modifier, msg_start, len(result))\n"
     ]
    }
   ],
   "source": [
    "# Classification report\n",
    "print(\"Classification report\")\n",
    "print(classification_report(labels_test,svc_pred_low_dimension))"
   ]
  },
  {
   "cell_type": "code",
   "execution_count": 46,
   "metadata": {},
   "outputs": [
    {
     "name": "stdout",
     "output_type": "stream",
     "text": [
      "Classification report\n",
      "              precision    recall  f1-score   support\n",
      "\n",
      "           1       0.00      0.00      0.00        99\n",
      "           2       0.79      0.68      0.73       125\n",
      "           3       0.62      0.77      0.69       395\n",
      "           4       0.78      0.78      0.78       500\n",
      "           5       0.89      0.05      0.10       151\n",
      "           7       0.75      0.04      0.07        82\n",
      "           8       0.75      0.46      0.57       114\n",
      "           9       0.51      0.91      0.65       400\n",
      "          10       0.58      0.62      0.60       217\n",
      "          11       0.65      0.54      0.59       216\n",
      "\n",
      "    accuracy                           0.64      2299\n",
      "   macro avg       0.63      0.49      0.48      2299\n",
      "weighted avg       0.65      0.64      0.59      2299\n",
      "\n"
     ]
    }
   ],
   "source": [
    "# Classification report\n",
    "print(\"Classification report\")\n",
    "print(classification_report(labels_test,svc_pred_high_dimension))"
   ]
  },
  {
   "cell_type": "code",
   "execution_count": 47,
   "metadata": {},
   "outputs": [
    {
     "data": {
      "image/png": "[encoded data removed]",
      "text/plain": [
       "<Figure size 921.6x432 with 2 Axes>"
      ]
     },
     "metadata": {
      "needs_background": "light"
     },
     "output_type": "display_data"
    }
   ],
   "source": [
    "# Confusion matrix SVM low dimension\n",
    "conf_matrix = confusion_matrix(labels_test, svc_pred_low_dimension)\n",
    "plt.figure(figsize=(12.8,6))\n",
    "sns.heatmap(conf_matrix, \n",
    "            annot=True,\n",
    "            xticklabels=categories['category'].values, \n",
    "            yticklabels=categories['category'].values,\n",
    "            cmap=\"Blues\")\n",
    "plt.ylabel('Predicted')\n",
    "plt.xlabel('Actual')\n",
    "plt.title('Confusion matrix with Support Vector Machine and low dimension feature set')\n",
    "plt.show()"
   ]
  },
  {
   "cell_type": "code",
   "execution_count": 48,
   "metadata": {},
   "outputs": [
    {
     "data": {
      "image/png": "[encoded data removed]",
      "text/plain": [
       "<Figure size 921.6x432 with 2 Axes>"
      ]
     },
     "metadata": {
      "needs_background": "light"
     },
     "output_type": "display_data"
    }
   ],
   "source": [
    "# Confusion matrix SVM high dimension\n",
    "conf_matrix = confusion_matrix(labels_test, svc_pred_high_dimension)\n",
    "plt.figure(figsize=(12.8,6))\n",
    "sns.heatmap(conf_matrix, \n",
    "            annot=True,\n",
    "            xticklabels=categories['category'].values, \n",
    "            yticklabels=categories['category'].values,\n",
    "            cmap=\"Blues\")\n",
    "plt.ylabel('Predicted')\n",
    "plt.xlabel('Actual')\n",
    "plt.title('Confusion matrix with Support Vector Machine and high dimension feature set')\n",
    "plt.show()"
   ]
  },
  {
   "cell_type": "code",
   "execution_count": 49,
   "metadata": {},
   "outputs": [
    {
     "data": {
      "text/html": [
       "<div>\n",
       "<style scoped>\n",
       "    .dataframe tbody tr th:only-of-type {\n",
       "        vertical-align: middle;\n",
       "    }\n",
       "\n",
       "    .dataframe tbody tr th {\n",
       "        vertical-align: top;\n",
       "    }\n",
       "\n",
       "    .dataframe thead th {\n",
       "        text-align: right;\n",
       "    }\n",
       "</style>\n",
       "<table border=\"1\" class=\"dataframe\">\n",
       "  <thead>\n",
       "    <tr style=\"text-align: right;\">\n",
       "      <th></th>\n",
       "      <th>actual</th>\n",
       "      <th>predicted</th>\n",
       "    </tr>\n",
       "  </thead>\n",
       "  <tbody>\n",
       "    <tr>\n",
       "      <th>0</th>\n",
       "      <td>NFI</td>\n",
       "      <td>WASH</td>\n",
       "    </tr>\n",
       "    <tr>\n",
       "      <th>1</th>\n",
       "      <td>Food</td>\n",
       "      <td>Nutrition</td>\n",
       "    </tr>\n",
       "    <tr>\n",
       "      <th>2</th>\n",
       "      <td>Shelter</td>\n",
       "      <td>Protection</td>\n",
       "    </tr>\n",
       "    <tr>\n",
       "      <th>3</th>\n",
       "      <td>Education</td>\n",
       "      <td>Education</td>\n",
       "    </tr>\n",
       "    <tr>\n",
       "      <th>4</th>\n",
       "      <td>Health</td>\n",
       "      <td>Health</td>\n",
       "    </tr>\n",
       "    <tr>\n",
       "      <th>5</th>\n",
       "      <td>Protection</td>\n",
       "      <td>Protection</td>\n",
       "    </tr>\n",
       "    <tr>\n",
       "      <th>6</th>\n",
       "      <td>Food</td>\n",
       "      <td>Food</td>\n",
       "    </tr>\n",
       "    <tr>\n",
       "      <th>7</th>\n",
       "      <td>Livelihood</td>\n",
       "      <td>Livelihood</td>\n",
       "    </tr>\n",
       "    <tr>\n",
       "      <th>8</th>\n",
       "      <td>Education</td>\n",
       "      <td>Education</td>\n",
       "    </tr>\n",
       "    <tr>\n",
       "      <th>9</th>\n",
       "      <td>Education</td>\n",
       "      <td>Education</td>\n",
       "    </tr>\n",
       "    <tr>\n",
       "      <th>10</th>\n",
       "      <td>Health</td>\n",
       "      <td>Health</td>\n",
       "    </tr>\n",
       "    <tr>\n",
       "      <th>11</th>\n",
       "      <td>Food</td>\n",
       "      <td>Food</td>\n",
       "    </tr>\n",
       "    <tr>\n",
       "      <th>12</th>\n",
       "      <td>Food</td>\n",
       "      <td>Protection</td>\n",
       "    </tr>\n",
       "    <tr>\n",
       "      <th>13</th>\n",
       "      <td>Protection</td>\n",
       "      <td>WASH</td>\n",
       "    </tr>\n",
       "    <tr>\n",
       "      <th>14</th>\n",
       "      <td>Cross</td>\n",
       "      <td>Protection</td>\n",
       "    </tr>\n",
       "    <tr>\n",
       "      <th>15</th>\n",
       "      <td>WASH</td>\n",
       "      <td>Food</td>\n",
       "    </tr>\n",
       "    <tr>\n",
       "      <th>16</th>\n",
       "      <td>Livelihood</td>\n",
       "      <td>Livelihood</td>\n",
       "    </tr>\n",
       "    <tr>\n",
       "      <th>17</th>\n",
       "      <td>Protection</td>\n",
       "      <td>Shelter</td>\n",
       "    </tr>\n",
       "    <tr>\n",
       "      <th>18</th>\n",
       "      <td>WASH</td>\n",
       "      <td>WASH</td>\n",
       "    </tr>\n",
       "    <tr>\n",
       "      <th>19</th>\n",
       "      <td>Health</td>\n",
       "      <td>Nutrition</td>\n",
       "    </tr>\n",
       "  </tbody>\n",
       "</table>\n",
       "</div>"
      ],
      "text/plain": [
       "        actual   predicted\n",
       "0          NFI        WASH\n",
       "1         Food   Nutrition\n",
       "2      Shelter  Protection\n",
       "3    Education   Education\n",
       "4       Health      Health\n",
       "5   Protection  Protection\n",
       "6         Food        Food\n",
       "7   Livelihood  Livelihood\n",
       "8    Education   Education\n",
       "9    Education   Education\n",
       "10      Health      Health\n",
       "11        Food        Food\n",
       "12        Food  Protection\n",
       "13  Protection        WASH\n",
       "14       Cross  Protection\n",
       "15        WASH        Food\n",
       "16  Livelihood  Livelihood\n",
       "17  Protection     Shelter\n",
       "18        WASH        WASH\n",
       "19      Health   Nutrition"
      ]
     },
     "execution_count": 49,
     "metadata": {},
     "output_type": "execute_result"
    }
   ],
   "source": [
    "# dataframe with predicted labels and the actual labels\n",
    "show_predictions = pd.DataFrame(columns=['actual','predicted'])\n",
    "show_predictions['actual'] = labels_test\n",
    "show_predictions['predicted'] = rfc_pred_high_dimension\n",
    "show_predictions.replace({0:'Agriculture',1:'Cross',2:'Education',3:'Food',4:'Health',5:'Livelihood',6:'Logistic',7:'NFI',8:'Nutrition',9:'Protection',10:'Shelter',11:'WASH'},inplace=True)\n",
    "show_predictions.head(20)"
   ]
  },
  {
   "cell_type": "markdown",
   "metadata": {},
   "source": [
    "<h3 style=\"text-align: center\">** Solution ends! **</h3>"
   ]
  },
  {
   "cell_type": "markdown",
   "metadata": {},
   "source": [
    "<h2 style=\"color:rgb(0,120,170)\">Task2: Training, Evaluation, and Results (7 points)</h2>\n",
    "\n",
    "To evaluate the models, use the <ins>accuracy metric</ins> throughout the task. \n",
    "\n",
    "**Training classifiers (4 points).** Select at least <ins>two classification algorithms</ins> from standard machine learning classifiers. Using each classification algorithms, train a machine learning model on one of the sentence vectors variations. This results in <ins>eight machine learning models</ins> (four variations of sentence vectors × two classification algorithms). \n",
    "\n",
    "Each of these models can have various possible hyper-parameters (also keeping in mind the dimensionality size $k$ in the low-dimensional vectors). For each ML model, tune <ins>one hyper-parameter</ins>, by first assigning up to <ins>five different values</ins> to it, then training separate models, and finally using the evaluation results on the validation set to select the best model. Report the tested hyper-parameters for each model and the selected hyper-parameter value at the end. \n",
    "\n",
    "In addition to these model, create a baseline classifier that randomly predicts the labels based on the distribution of the labels in the training set (for instance by using `DummyClassifier` in `scikitlearn`). This is a weak baseline and the evaluation results of other classifiers should end up to be considerable higher. \n",
    "\n",
    "**Results and comparison (1.5 point).** After fine tuning the eight ML models, evaluate them on the test set. Report the evaluation results of these eight models on both validation and test sets using a plot or a table. Compare different models. Are the test results much lower(/higher) than the validation results? If it is the case, where can it be rooted from? Among all these models and variations, what are the most important factors affecting the classification results?\n",
    "\n",
    "**Confusion matrix (1.5 point).** Create a confusion matrix for the best performing ML model, which shows the predicted versus true results per each label. Explain your observations on the matrix. On which classes do you observe the highest confusions?\n",
    "\n"
   ]
  },
  {
   "cell_type": "markdown",
   "metadata": {},
   "source": [
    "<h3 style=\"text-align: center\">** Solution starts... **</h3>"
   ]
  },
  {
   "cell_type": "code",
   "execution_count": null,
   "metadata": {},
   "outputs": [],
   "source": []
  },
  {
   "cell_type": "code",
   "execution_count": null,
   "metadata": {},
   "outputs": [],
   "source": []
  },
  {
   "cell_type": "markdown",
   "metadata": {},
   "source": [
    "<h3 style=\"text-align: center\">** Solution ends! **</h3>"
   ]
  },
  {
   "cell_type": "markdown",
   "metadata": {},
   "source": [
    "<h2 style=\"color:rgb(0,120,170)\">Task3 (optional): Visualization and Analysis (2 extra points)</h2>\n",
    "\n",
    "Follow any idea/question that provides more insights on experiments. Here are two possible ones:\n",
    "\n",
    "- Visualization: create 2-dimensional plots for the document vectors provided by the best performing model. Compare the plots, when showing the predicted labels with the one showing the correct labels.\n",
    "- Interpretability: if you trained a logistic regression model on the high-dimensional vectors, study the coefficient weights on each dimension (which correspond to each word) learned in the model. Explore which words have the highest contributions on the model's predictions."
   ]
  },
  {
   "cell_type": "markdown",
   "metadata": {},
   "source": [
    "<h3 style=\"text-align: center\">** Solution starts... **</h3>"
   ]
  },
  {
   "cell_type": "code",
   "execution_count": null,
   "metadata": {},
   "outputs": [],
   "source": []
  },
  {
   "cell_type": "code",
   "execution_count": null,
   "metadata": {},
   "outputs": [],
   "source": []
  },
  {
   "cell_type": "markdown",
   "metadata": {},
   "source": [
    "<h3 style=\"text-align: center\">** Solution ends! **</h3>"
   ]
  }
 ],
 "metadata": {
  "kernelspec": {
   "display_name": "Python 3",
   "language": "python",
   "name": "python3"
  },
  "language_info": {
   "codemirror_mode": {
    "name": "ipython",
    "version": 3
   },
   "file_extension": ".py",
   "mimetype": "text/x-python",
   "name": "python",
   "nbconvert_exporter": "python",
   "pygments_lexer": "ipython3",
   "version": "3.8.8"
  }
 },
 "nbformat": 4,
 "nbformat_minor": 4
}
